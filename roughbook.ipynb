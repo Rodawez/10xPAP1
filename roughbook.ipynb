{
 "cells": [
  {
   "cell_type": "code",
   "execution_count": 11,
   "id": "90849e58",
   "metadata": {
    "scrolled": true
   },
   "outputs": [
    {
     "name": "stdout",
     "output_type": "stream",
     "text": [
      "{'mission 1': 'destroy humanity', 'mission 2': 'make Earth a better place and defence ', 'mission 3': 'defeat the Avengers'}\n",
      "{'hello': 'hello,now u die', 'how r u': 'i will be happy if ur ded', 'ironman': 'he sucks', 'do u believe in the tooth fairy': 'ayo,my man i do i aint on kill ya now but i gotta a bounce now'}\n",
      "{'hello': 'hello,now u die', 'how r u': 'i will be happy if ur ded', 'ironman': 'he sucks', 'do u believe in the tooth fairy': 'ayo,my man i do i aint on kill ya now but i gotta a bounce now', 'ill kill ya': 'nah bro you aint got any moves my dude. i can break your ankes in a second'}\n",
      "ayo,my man i do i aint on kill ya now but i gotta a bounce now\n",
      "<class 'dict'>\n",
      "5\n",
      "{'how r u': 'i will be happy if ur ded', 'ironman': 'he sucks', 'do u believe in the tooth fairy': 'ayo,my man i do i aint on kill ya now but i gotta a bounce now', 'ill kill ya': 'nah bro you aint got any moves my dude. i can break your ankes in a second'}\n"
     ]
    }
   ],
   "source": [
    "mission_info={\"mission 1\":\"destroy humanity\",\"mission 2\":\"make Earth a better place and defence \",\"mission 3\":\"defeat the Avengers\"}\n",
    "print(mission_info)\n",
    "responses={\"hello\":\"hello,now u die\",\"how r u\":\"i will be happy if ur ded\",\"ironman\":\"he sucks\",\"do u believe in the tooth fairy\":\"ayo,my man i do i aint on kill ya now but i gotta a bounce now\"}\n",
    "print(responses)\n",
    "responses[\"ill kill ya\"]=\"nah bro you aint got any moves my dude. i can break your ankes in a second\"\n",
    "print(responses)\n",
    "print (responses[\"do u believe in the tooth fairy\"])\n",
    "print(type(responses))\n",
    "print(len(responses))\n",
    "responses.pop(\"hello\")\n",
    "print(responses)"
   ]
  },
  {
   "cell_type": "code",
   "execution_count": null,
   "id": "8af3458a",
   "metadata": {},
   "outputs": [],
   "source": [
    "a=int(input(\"enter number or luffy dies\"))\n",
    "if(a%2==1):\n",
    "    print(\"ur number is odd like u\")\n",
    "else:\n",
    "    print(\"ur number is even\")"
   ]
  },
  {
   "cell_type": "code",
   "execution_count": 3,
   "id": "50b5ae76",
   "metadata": {},
   "outputs": [
    {
     "name": "stdout",
     "output_type": "stream",
     "text": [
      "['Violet', 'Indigo', 'Blue', 'Green', 'Yellow', 'Orange', 'turquoise']\n"
     ]
    }
   ],
   "source": [
    "rainbow=[\"Violet\",\"Indigo\", \"Blue\", \"Green\", \"Yellow\", \"Orange\",\"Red\"]\n",
    "rainbow.append(\"turquoise\")\n",
    "rainbow.remove(\"Red\")\n",
    "print(rainbow)"
   ]
  },
  {
   "cell_type": "code",
   "execution_count": null,
   "id": "2d7c4e9f",
   "metadata": {},
   "outputs": [],
   "source": []
  },
  {
   "cell_type": "code",
   "execution_count": null,
   "id": "b05b15da",
   "metadata": {},
   "outputs": [],
   "source": []
  },
  {
   "cell_type": "code",
   "execution_count": null,
   "id": "7beb1a2e",
   "metadata": {},
   "outputs": [],
   "source": []
  },
  {
   "cell_type": "code",
   "execution_count": null,
   "id": "c4a3acee",
   "metadata": {},
   "outputs": [],
   "source": []
  },
  {
   "cell_type": "code",
   "execution_count": null,
   "id": "8ce363f3",
   "metadata": {},
   "outputs": [],
   "source": []
  }
 ],
 "metadata": {
  "kernelspec": {
   "display_name": "Python 3 (ipykernel)",
   "language": "python",
   "name": "python3"
  },
  "language_info": {
   "codemirror_mode": {
    "name": "ipython",
    "version": 3
   },
   "file_extension": ".py",
   "mimetype": "text/x-python",
   "name": "python",
   "nbconvert_exporter": "python",
   "pygments_lexer": "ipython3",
   "version": "3.11.5"
  }
 },
 "nbformat": 4,
 "nbformat_minor": 5
}
